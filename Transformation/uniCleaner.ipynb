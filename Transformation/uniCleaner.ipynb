{
 "cells": [
  {
   "cell_type": "code",
   "execution_count": 1,
   "metadata": {},
   "outputs": [],
   "source": [
    "import findspark\n",
    "findspark.init('/home/ductien/spark-3.3.2-bin-hadoop3')\n",
    "import pyspark\n",
    "from pyspark.sql import SparkSession\n",
    "from pyspark.sql.functions import lit, col, udf\n",
    "import json\n",
    "# use explode() function to handle array datatype\n",
    "from pyspark.sql.functions import explode\n",
    "from pyspark.sql.types import StringType\n",
    "\n",
    "# Find Count of Null, None, NaN of All DataFrame Columns\n",
    "from pyspark.sql.functions import isnan, isnull, when, count\n",
    "from pyspark.sql.functions import split"
   ]
  },
  {
   "attachments": {},
   "cell_type": "markdown",
   "metadata": {},
   "source": [
    "<h1>Create Spark Session"
   ]
  },
  {
   "cell_type": "code",
   "execution_count": 2,
   "metadata": {},
   "outputs": [
    {
     "name": "stdout",
     "output_type": "stream",
     "text": [
      "23/04/27 04:44:06 WARN Utils: Your hostname, DT-Kubuntu resolves to a loopback address: 127.0.1.1; using 192.168.2.94 instead (on interface wlp3s0)\n",
      "23/04/27 04:44:06 WARN Utils: Set SPARK_LOCAL_IP if you need to bind to another address\n"
     ]
    },
    {
     "name": "stderr",
     "output_type": "stream",
     "text": [
      "Setting default log level to \"WARN\".\n",
      "To adjust logging level use sc.setLogLevel(newLevel). For SparkR, use setLogLevel(newLevel).\n"
     ]
    },
    {
     "name": "stdout",
     "output_type": "stream",
     "text": [
      "23/04/27 04:44:07 WARN NativeCodeLoader: Unable to load native-hadoop library for your platform... using builtin-java classes where applicable\n",
      "23/04/27 04:44:08 WARN Utils: Service 'SparkUI' could not bind on port 4040. Attempting port 4041.\n"
     ]
    }
   ],
   "source": [
    "spark = SparkSession.builder.appName('uniCleaner').getOrCreate()"
   ]
  },
  {
   "attachments": {},
   "cell_type": "markdown",
   "metadata": {},
   "source": [
    "<h2>Read data"
   ]
  },
  {
   "cell_type": "code",
   "execution_count": 3,
   "metadata": {},
   "outputs": [
    {
     "name": "stderr",
     "output_type": "stream",
     "text": [
      "[Stage 0:=============================>                             (1 + 1) / 2]\r"
     ]
    },
    {
     "name": "stdout",
     "output_type": "stream",
     "text": [
      "root\n",
      " |-- diemchuan_datas: array (nullable = true)\n",
      " |    |-- element: struct (containsNull = true)\n",
      " |    |    |-- major_code: string (nullable = true)\n",
      " |    |    |-- major_name: string (nullable = true)\n",
      " |    |    |-- note: string (nullable = true)\n",
      " |    |    |-- point: string (nullable = true)\n",
      " |    |    |-- subject_group: string (nullable = true)\n",
      " |    |    |-- year: long (nullable = true)\n",
      " |-- university_meta: struct (nullable = true)\n",
      " |    |-- university_code: string (nullable = true)\n",
      " |    |-- university_name: string (nullable = true)\n",
      " |    |-- url: string (nullable = true)\n",
      "\n"
     ]
    },
    {
     "name": "stderr",
     "output_type": "stream",
     "text": [
      "                                                                                \r"
     ]
    }
   ],
   "source": [
    "df = spark.read.json('./Datasets/university_diemchuan.json')\n",
    "df.printSchema()"
   ]
  },
  {
   "attachments": {},
   "cell_type": "markdown",
   "metadata": {},
   "source": [
    "<h1> Reformating"
   ]
  },
  {
   "cell_type": "code",
   "execution_count": 4,
   "metadata": {},
   "outputs": [
    {
     "name": "stdout",
     "output_type": "stream",
     "text": [
      "root\n",
      " |-- uni_code: string (nullable = true)\n",
      " |-- uni_name: string (nullable = true)\n",
      " |-- year: long (nullable = true)\n",
      " |-- major_code: string (nullable = true)\n",
      " |-- major_name: string (nullable = true)\n",
      " |-- note: string (nullable = true)\n",
      " |-- benchmark: string (nullable = true)\n",
      " |-- subject_group: string (nullable = true)\n",
      "\n"
     ]
    }
   ],
   "source": [
    "formatedDF = df.withColumn('uni_code', col('university_meta.university_code'))\\\n",
    "        .withColumn('uni_name', col('university_meta.university_name'))\\\n",
    "        .drop('university_meta')\\\n",
    "        .withColumn('mark_ex', explode('diemchuan_datas'))\\\n",
    "        .withColumn('year', col('mark_ex.year'))\\\n",
    "        .withColumn('major_code', col('mark_ex.major_code'))\\\n",
    "        .withColumn('major_name', col('mark_ex.major_name'))\\\n",
    "        .withColumn('note', col('mark_ex.note'))\\\n",
    "        .withColumn('benchmark', col('mark_ex.point'))\\\n",
    "        .withColumn('subject_group', col('mark_ex.subject_group'))\\\n",
    "        .drop('diemchuan_datas', 'mark_ex')\n",
    "\n",
    "formatedDF.printSchema()"
   ]
  },
  {
   "cell_type": "code",
   "execution_count": 5,
   "metadata": {},
   "outputs": [
    {
     "data": {
      "text/plain": [
       "0"
      ]
     },
     "execution_count": 5,
     "metadata": {},
     "output_type": "execute_result"
    }
   ],
   "source": [
    "formatedDF.filter(formatedDF.major_code == 'D01').count()"
   ]
  },
  {
   "cell_type": "code",
   "execution_count": 6,
   "metadata": {},
   "outputs": [
    {
     "name": "stdout",
     "output_type": "stream",
     "text": [
      "+--------+--------------------+----+----------+--------------------+--------------------+---------+-------------+\n",
      "|uni_code|            uni_name|year|major_code|          major_name|                note|benchmark|subject_group|\n",
      "+--------+--------------------+----+----------+--------------------+--------------------+---------+-------------+\n",
      "|     DCH|Trường Sĩ Quan Đặ...|2017|   7860207|Chỉ huy tham mưu ...|                    |    23.25|          A00|\n",
      "|     DCH|Trường Sĩ Quan Đặ...|2017|   7860207|Chỉ huy tham mưu ...|                    |    23.25|          A01|\n",
      "|     DCH|Trường Sĩ Quan Đặ...|2017|   7860207|Chỉ huy tham mưu ...|Thí sinh mức 21,7...|    21.75|          A00|\n",
      "|     DCH|Trường Sĩ Quan Đặ...|2017|   7860207|Chỉ huy tham mưu ...|Thí sinh mức 21,7...|    21.75|          A01|\n",
      "|     DCH|Trường Sĩ Quan Đặ...|2018|   7860207|Thí sinh Nam miền...|                    |    21.05|          A00|\n",
      "|     DCH|Trường Sĩ Quan Đặ...|2018|   7860207|Thí sinh Nam miền...|                    |    21.05|          A01|\n",
      "|     DCH|Trường Sĩ Quan Đặ...|2018|   7860207|Thí sinh Nam miền...|                    |    19.45|          A00|\n",
      "|     DCH|Trường Sĩ Quan Đặ...|2018|   7860207|Thí sinh Nam miền...|                    |    19.45|          A01|\n",
      "|     DCH|Trường Sĩ Quan Đặ...|2019|   7860207|Chỉ huy tham mưu ...|                    |     19.9|          A00|\n",
      "|     DCH|Trường Sĩ Quan Đặ...|2019|   7860207|Chỉ huy tham mưu ...|                    |     19.9|          A01|\n",
      "+--------+--------------------+----+----------+--------------------+--------------------+---------+-------------+\n",
      "\n"
     ]
    }
   ],
   "source": [
    "formatedDF.limit(10).show()"
   ]
  },
  {
   "attachments": {},
   "cell_type": "markdown",
   "metadata": {},
   "source": [
    "<h2> Remove vietnamease accent"
   ]
  },
  {
   "cell_type": "code",
   "execution_count": 7,
   "metadata": {},
   "outputs": [],
   "source": [
    "import unidecode\n",
    "\n",
    "def remove_accent(text):\n",
    "    return unidecode.unidecode(text).lower()"
   ]
  },
  {
   "cell_type": "code",
   "execution_count": 8,
   "metadata": {},
   "outputs": [],
   "source": [
    "remove_accent_udf = udf(remove_accent, StringType())"
   ]
  },
  {
   "cell_type": "code",
   "execution_count": 9,
   "metadata": {},
   "outputs": [],
   "source": [
    "formatedDF = formatedDF.withColumn('uni_name', remove_accent_udf(formatedDF['uni_name']))\\\n",
    "                       .withColumn('major_name', remove_accent_udf(formatedDF['major_name']))\\\n",
    "                       .withColumn('note', remove_accent_udf(formatedDF['note']))"
   ]
  },
  {
   "cell_type": "code",
   "execution_count": 10,
   "metadata": {},
   "outputs": [
    {
     "name": "stdout",
     "output_type": "stream",
     "text": [
      "+--------+--------------------+----+----------+--------------------+--------------------+---------+---------------+\n",
      "|uni_code|            uni_name|year|major_code|          major_name|                note|benchmark|  subject_group|\n",
      "+--------+--------------------+----+----------+--------------------+--------------------+---------+---------------+\n",
      "|     DCH|truong si quan da...|2017|   7860207|chi huy tham muu ...|                    |    23.25|            A00|\n",
      "|     DCH|truong si quan da...|2017|   7860207|chi huy tham muu ...|                    |    23.25|            A01|\n",
      "|     DCH|truong si quan da...|2017|   7860207|chi huy tham muu ...|thi sinh muc 21,7...|    21.75|            A00|\n",
      "|     DCH|truong si quan da...|2017|   7860207|chi huy tham muu ...|thi sinh muc 21,7...|    21.75|            A01|\n",
      "|     DCH|truong si quan da...|2018|   7860207|thi sinh nam mien...|                    |    21.05|            A00|\n",
      "|     DCH|truong si quan da...|2018|   7860207|thi sinh nam mien...|                    |    21.05|            A01|\n",
      "|     DCH|truong si quan da...|2018|   7860207|thi sinh nam mien...|                    |    19.45|            A00|\n",
      "|     DCH|truong si quan da...|2018|   7860207|thi sinh nam mien...|                    |    19.45|            A01|\n",
      "|     DCH|truong si quan da...|2019|   7860207|chi huy tham muu ...|                    |     19.9|            A00|\n",
      "|     DCH|truong si quan da...|2019|   7860207|chi huy tham muu ...|                    |     19.9|            A01|\n",
      "|     DCH|truong si quan da...|2019|   7860207|chi huy tham muu ...|thi sinh muc 19,6...|     19.6|            A00|\n",
      "|     DCH|truong si quan da...|2019|   7860207|chi huy tham muu ...|thi sinh muc 19,6...|     19.6|            A01|\n",
      "|     DCH|truong si quan da...|2020|   7860207|chi huy tham muu ...|   thi sinh mien bac|    24.15|      A00;  A01|\n",
      "|     DCH|truong si quan da...|2020|   7860207|chi huy tham muu ...|   thi sinh mien nam|     23.6|      A00;  A01|\n",
      "|     DCH|truong si quan da...|2021|   7860207|chi huy tham muu ...|thi sinh nam mien...|     23.9|       A00; A01|\n",
      "|     DCH|truong si quan da...|2021|   7860207|chi huy tham muu ...|thi sinh nam mien...|     24.3|       A00; A01|\n",
      "|     DCH|truong si quan da...|2022|   7860207|chi huy tham muu ...|thi sinh nam mien...|       24|       A00; A01|\n",
      "|     DCH|truong si quan da...|2022|   7860207|chi huy tham muu ...|thi sinh nam mien...|    20.15|       A00; A01|\n",
      "|     BMU|dai hoc buon ma t...|2017|   7720101|              y khoa|                    |     21.5|A02;  B00;  D08|\n",
      "|     BMU|dai hoc buon ma t...|2017|   7720201|            duoc hoc|                    |       19|A00;  B00;  D07|\n",
      "+--------+--------------------+----+----------+--------------------+--------------------+---------+---------------+\n",
      "only showing top 20 rows\n",
      "\n"
     ]
    },
    {
     "name": "stderr",
     "output_type": "stream",
     "text": [
      "                                                                                \r"
     ]
    }
   ],
   "source": [
    "formatedDF.show()"
   ]
  },
  {
   "cell_type": "code",
   "execution_count": 11,
   "metadata": {},
   "outputs": [
    {
     "name": "stdout",
     "output_type": "stream",
     "text": [
      "root\n",
      " |-- uni_code: string (nullable = true)\n",
      " |-- uni_name: string (nullable = true)\n",
      " |-- year: long (nullable = true)\n",
      " |-- major_code: string (nullable = true)\n",
      " |-- major_name: string (nullable = true)\n",
      " |-- note: string (nullable = true)\n",
      " |-- benchmark: string (nullable = true)\n",
      " |-- subject_group: string (nullable = true)\n",
      "\n"
     ]
    }
   ],
   "source": [
    "formatedDF.printSchema()"
   ]
  },
  {
   "attachments": {},
   "cell_type": "markdown",
   "metadata": {},
   "source": [
    "<h2> Refactor datatype and split subject_group"
   ]
  },
  {
   "cell_type": "code",
   "execution_count": 12,
   "metadata": {},
   "outputs": [],
   "source": [
    "tmpDF = formatedDF.withColumn('list_subject_group', split('subject_group', ';'))"
   ]
  },
  {
   "cell_type": "code",
   "execution_count": 20,
   "metadata": {},
   "outputs": [],
   "source": [
    "tmpDF = tmpDF.select(\"*\", explode('list_subject_group').alias('single_subject_group'))"
   ]
  },
  {
   "cell_type": "code",
   "execution_count": 24,
   "metadata": {},
   "outputs": [],
   "source": [
    "tmpDF = tmpDF.select(\"single_subject_group\")"
   ]
  },
  {
   "cell_type": "code",
   "execution_count": 29,
   "metadata": {},
   "outputs": [
    {
     "name": "stdout",
     "output_type": "stream",
     "text": [
      "+--------------------+\n",
      "|single_subject_group|\n",
      "+--------------------+\n",
      "|                 A00|\n",
      "|                 A01|\n",
      "|                 A00|\n",
      "|                 A01|\n",
      "|                 A00|\n",
      "|                 A01|\n",
      "|                 A00|\n",
      "|                 A01|\n",
      "|                 A00|\n",
      "|                 A01|\n",
      "|                 A00|\n",
      "|                 A01|\n",
      "|                 A00|\n",
      "|                 A01|\n",
      "|                 A00|\n",
      "|                 A01|\n",
      "|                 A00|\n",
      "|                 A01|\n",
      "|                 A00|\n",
      "|                 A01|\n",
      "+--------------------+\n",
      "only showing top 20 rows\n",
      "\n"
     ]
    }
   ],
   "source": [
    "tmpDF.show()"
   ]
  },
  {
   "cell_type": "code",
   "execution_count": 30,
   "metadata": {},
   "outputs": [],
   "source": [
    "subject_list = ['A00','A01','A02','A03','A04','A05','A06','A07','A08','A09','A10','A11',\n",
    "                'B00','B01','B02','B03','B04','B08',\n",
    "                'C00','C01','C02','C03','C04','C05','C06','C07','C08','C09',\n",
    "                'D01','D07','D08','D09','D10','D11','D12','D13']"
   ]
  },
  {
   "cell_type": "code",
   "execution_count": 31,
   "metadata": {},
   "outputs": [],
   "source": [
    "formatedDF = formatedDF.withColumn('benchmark', col('benchmark').cast('double'))\\\n",
    "                       .withColumn('year', col('year').cast('integer'))\\\n",
    "                       .withColumn('list_subject_group', split('subject_group', ';'))"
   ]
  },
  {
   "cell_type": "code",
   "execution_count": 32,
   "metadata": {},
   "outputs": [],
   "source": [
    "formatedDF = formatedDF.select(\"*\", explode('list_subject_group').alias('single_subject_group'))\\\n",
    "          .drop('list_subject_group')"
   ]
  },
  {
   "cell_type": "code",
   "execution_count": 33,
   "metadata": {},
   "outputs": [
    {
     "name": "stdout",
     "output_type": "stream",
     "text": [
      "root\n",
      " |-- uni_code: string (nullable = true)\n",
      " |-- uni_name: string (nullable = true)\n",
      " |-- year: integer (nullable = true)\n",
      " |-- major_code: string (nullable = true)\n",
      " |-- major_name: string (nullable = true)\n",
      " |-- note: string (nullable = true)\n",
      " |-- benchmark: double (nullable = true)\n",
      " |-- subject_group: string (nullable = true)\n",
      " |-- single_subject_group: string (nullable = false)\n",
      "\n"
     ]
    }
   ],
   "source": [
    "formatedDF.printSchema()"
   ]
  },
  {
   "cell_type": "code",
   "execution_count": 39,
   "metadata": {},
   "outputs": [],
   "source": [
    "formatedDF = formatedDF.filter(col('single_subject_group').isin(subject_list))"
   ]
  },
  {
   "cell_type": "code",
   "execution_count": 41,
   "metadata": {},
   "outputs": [
    {
     "data": {
      "text/plain": [
       "38935"
      ]
     },
     "execution_count": 41,
     "metadata": {},
     "output_type": "execute_result"
    }
   ],
   "source": [
    "formatedDF.count()"
   ]
  },
  {
   "attachments": {},
   "cell_type": "markdown",
   "metadata": {},
   "source": [
    "<h1> Check missing data and clean it"
   ]
  },
  {
   "cell_type": "code",
   "execution_count": 42,
   "metadata": {},
   "outputs": [],
   "source": [
    "countNullDF = formatedDF.select([count(when(isnan(c) | isnull(c), c)).alias(c) for c in formatedDF.columns])"
   ]
  },
  {
   "cell_type": "code",
   "execution_count": 43,
   "metadata": {},
   "outputs": [
    {
     "name": "stderr",
     "output_type": "stream",
     "text": [
      "[Stage 37:=============================>                            (1 + 1) / 2]\r"
     ]
    },
    {
     "name": "stdout",
     "output_type": "stream",
     "text": [
      "+--------+--------+----+----------+----------+----+---------+-------------+--------------------+\n",
      "|uni_code|uni_name|year|major_code|major_name|note|benchmark|subject_group|single_subject_group|\n",
      "+--------+--------+----+----------+----------+----+---------+-------------+--------------------+\n",
      "|       0|       0|   0|         0|         0|   0|     1642|            0|                   0|\n",
      "+--------+--------+----+----------+----------+----+---------+-------------+--------------------+\n",
      "\n"
     ]
    },
    {
     "name": "stderr",
     "output_type": "stream",
     "text": [
      "                                                                                \r"
     ]
    }
   ],
   "source": [
    "countNullDF.show()"
   ]
  },
  {
   "cell_type": "code",
   "execution_count": 44,
   "metadata": {},
   "outputs": [
    {
     "data": {
      "text/plain": [
       "9.107486837036086"
      ]
     },
     "execution_count": 44,
     "metadata": {},
     "output_type": "execute_result"
    }
   ],
   "source": [
    "(3546 / formatedDF.count()) * 100"
   ]
  },
  {
   "cell_type": "code",
   "execution_count": 45,
   "metadata": {},
   "outputs": [],
   "source": [
    "finalDF = formatedDF.dropna(subset= formatedDF.columns)"
   ]
  },
  {
   "cell_type": "code",
   "execution_count": 46,
   "metadata": {},
   "outputs": [
    {
     "name": "stderr",
     "output_type": "stream",
     "text": [
      "[Stage 43:=============================>                            (1 + 1) / 2]\r"
     ]
    },
    {
     "name": "stdout",
     "output_type": "stream",
     "text": [
      "+--------+--------+----+----------+----------+----+---------+-------------+--------------------+\n",
      "|uni_code|uni_name|year|major_code|major_name|note|benchmark|subject_group|single_subject_group|\n",
      "+--------+--------+----+----------+----------+----+---------+-------------+--------------------+\n",
      "|       0|       0|   0|         0|         0|   0|        0|            0|                   0|\n",
      "+--------+--------+----+----------+----------+----+---------+-------------+--------------------+\n",
      "\n"
     ]
    },
    {
     "name": "stderr",
     "output_type": "stream",
     "text": [
      "                                                                                \r"
     ]
    }
   ],
   "source": [
    "finalDF.select([count(when(isnan(c) | isnull(c), c)).alias(c) for c in finalDF.columns]).show()"
   ]
  },
  {
   "cell_type": "code",
   "execution_count": 47,
   "metadata": {},
   "outputs": [
    {
     "name": "stdout",
     "output_type": "stream",
     "text": [
      "+--------+--------------------+----+----------+--------------------+--------------------+---------+---------------+--------------------+\n",
      "|uni_code|            uni_name|year|major_code|          major_name|                note|benchmark|  subject_group|single_subject_group|\n",
      "+--------+--------------------+----+----------+--------------------+--------------------+---------+---------------+--------------------+\n",
      "|     DCH|truong si quan da...|2017|   7860207|chi huy tham muu ...|                    |    23.25|            A00|                 A00|\n",
      "|     DCH|truong si quan da...|2017|   7860207|chi huy tham muu ...|                    |    23.25|            A01|                 A01|\n",
      "|     DCH|truong si quan da...|2017|   7860207|chi huy tham muu ...|thi sinh muc 21,7...|    21.75|            A00|                 A00|\n",
      "|     DCH|truong si quan da...|2017|   7860207|chi huy tham muu ...|thi sinh muc 21,7...|    21.75|            A01|                 A01|\n",
      "|     DCH|truong si quan da...|2018|   7860207|thi sinh nam mien...|                    |    21.05|            A00|                 A00|\n",
      "|     DCH|truong si quan da...|2018|   7860207|thi sinh nam mien...|                    |    21.05|            A01|                 A01|\n",
      "|     DCH|truong si quan da...|2018|   7860207|thi sinh nam mien...|                    |    19.45|            A00|                 A00|\n",
      "|     DCH|truong si quan da...|2018|   7860207|thi sinh nam mien...|                    |    19.45|            A01|                 A01|\n",
      "|     DCH|truong si quan da...|2019|   7860207|chi huy tham muu ...|                    |     19.9|            A00|                 A00|\n",
      "|     DCH|truong si quan da...|2019|   7860207|chi huy tham muu ...|                    |     19.9|            A01|                 A01|\n",
      "|     DCH|truong si quan da...|2019|   7860207|chi huy tham muu ...|thi sinh muc 19,6...|     19.6|            A00|                 A00|\n",
      "|     DCH|truong si quan da...|2019|   7860207|chi huy tham muu ...|thi sinh muc 19,6...|     19.6|            A01|                 A01|\n",
      "|     DCH|truong si quan da...|2020|   7860207|chi huy tham muu ...|   thi sinh mien bac|    24.15|      A00;  A01|                 A00|\n",
      "|     DCH|truong si quan da...|2020|   7860207|chi huy tham muu ...|   thi sinh mien nam|     23.6|      A00;  A01|                 A00|\n",
      "|     DCH|truong si quan da...|2021|   7860207|chi huy tham muu ...|thi sinh nam mien...|     23.9|       A00; A01|                 A00|\n",
      "|     DCH|truong si quan da...|2021|   7860207|chi huy tham muu ...|thi sinh nam mien...|     24.3|       A00; A01|                 A00|\n",
      "|     DCH|truong si quan da...|2022|   7860207|chi huy tham muu ...|thi sinh nam mien...|     24.0|       A00; A01|                 A00|\n",
      "|     DCH|truong si quan da...|2022|   7860207|chi huy tham muu ...|thi sinh nam mien...|    20.15|       A00; A01|                 A00|\n",
      "|     BMU|dai hoc buon ma t...|2017|   7720101|              y khoa|                    |     21.5|A02;  B00;  D08|                 A02|\n",
      "|     BMU|dai hoc buon ma t...|2017|   7720201|            duoc hoc|                    |     19.0|A00;  B00;  D07|                 A00|\n",
      "+--------+--------------------+----+----------+--------------------+--------------------+---------+---------------+--------------------+\n",
      "only showing top 20 rows\n",
      "\n"
     ]
    }
   ],
   "source": [
    "finalDF.show()"
   ]
  },
  {
   "attachments": {},
   "cell_type": "markdown",
   "metadata": {},
   "source": [
    "<h2> Clean rows \"Xet hoc ba\""
   ]
  },
  {
   "cell_type": "code",
   "execution_count": 48,
   "metadata": {},
   "outputs": [],
   "source": [
    "finalDF = finalDF.filter(~finalDF.note.contains('xet hoc ba') &\\\n",
    "                       ~finalDF.note.contains('hoc ba') & \\\n",
    "                       ~finalDF.note.contains('hocba') &\n",
    "                       ~finalDF.note.contains('xet tuyen hoc ba'))"
   ]
  },
  {
   "cell_type": "code",
   "execution_count": 49,
   "metadata": {},
   "outputs": [
    {
     "data": {
      "text/plain": [
       "0"
      ]
     },
     "execution_count": 49,
     "metadata": {},
     "output_type": "execute_result"
    }
   ],
   "source": [
    "finalDF.filter(finalDF.note.contains('hoc ba')).count()"
   ]
  },
  {
   "cell_type": "code",
   "execution_count": 50,
   "metadata": {},
   "outputs": [
    {
     "name": "stdout",
     "output_type": "stream",
     "text": [
      "root\n",
      " |-- uni_code: string (nullable = true)\n",
      " |-- uni_name: string (nullable = true)\n",
      " |-- year: integer (nullable = true)\n",
      " |-- major_code: string (nullable = true)\n",
      " |-- major_name: string (nullable = true)\n",
      " |-- note: string (nullable = true)\n",
      " |-- benchmark: double (nullable = true)\n",
      " |-- subject_group: string (nullable = true)\n",
      " |-- single_subject_group: string (nullable = false)\n",
      "\n"
     ]
    }
   ],
   "source": [
    "finalDF.printSchema()"
   ]
  },
  {
   "cell_type": "code",
   "execution_count": 51,
   "metadata": {},
   "outputs": [],
   "source": [
    "finalDF = finalDF.drop(finalDF.note)"
   ]
  },
  {
   "cell_type": "code",
   "execution_count": 52,
   "metadata": {},
   "outputs": [
    {
     "name": "stdout",
     "output_type": "stream",
     "text": [
      "root\n",
      " |-- uni_code: string (nullable = true)\n",
      " |-- uni_name: string (nullable = true)\n",
      " |-- year: integer (nullable = true)\n",
      " |-- major_code: string (nullable = true)\n",
      " |-- major_name: string (nullable = true)\n",
      " |-- benchmark: double (nullable = true)\n",
      " |-- subject_group: string (nullable = true)\n",
      " |-- single_subject_group: string (nullable = false)\n",
      "\n"
     ]
    }
   ],
   "source": [
    "finalDF.printSchema()"
   ]
  },
  {
   "cell_type": "code",
   "execution_count": 53,
   "metadata": {},
   "outputs": [
    {
     "name": "stderr",
     "output_type": "stream",
     "text": [
      "                                                                                \r"
     ]
    },
    {
     "data": {
      "text/plain": [
       "248"
      ]
     },
     "execution_count": 53,
     "metadata": {},
     "output_type": "execute_result"
    }
   ],
   "source": [
    "finalDF.createOrReplaceTempView(\"TAB\")\n",
    "spark.sql(\"SELECT DISTINCT uni_code FROM TAB\").count()"
   ]
  },
  {
   "cell_type": "code",
   "execution_count": 54,
   "metadata": {},
   "outputs": [
    {
     "name": "stdout",
     "output_type": "stream",
     "text": [
      "+--------+--------------------+----+----------+--------------------+---------+---------------+--------------------+\n",
      "|uni_code|            uni_name|year|major_code|          major_name|benchmark|  subject_group|single_subject_group|\n",
      "+--------+--------------------+----+----------+--------------------+---------+---------------+--------------------+\n",
      "|     DCH|truong si quan da...|2017|   7860207|chi huy tham muu ...|    23.25|            A00|                 A00|\n",
      "|     DCH|truong si quan da...|2017|   7860207|chi huy tham muu ...|    23.25|            A01|                 A01|\n",
      "|     DCH|truong si quan da...|2017|   7860207|chi huy tham muu ...|    21.75|            A00|                 A00|\n",
      "|     DCH|truong si quan da...|2017|   7860207|chi huy tham muu ...|    21.75|            A01|                 A01|\n",
      "|     DCH|truong si quan da...|2018|   7860207|thi sinh nam mien...|    21.05|            A00|                 A00|\n",
      "|     DCH|truong si quan da...|2018|   7860207|thi sinh nam mien...|    21.05|            A01|                 A01|\n",
      "|     DCH|truong si quan da...|2018|   7860207|thi sinh nam mien...|    19.45|            A00|                 A00|\n",
      "|     DCH|truong si quan da...|2018|   7860207|thi sinh nam mien...|    19.45|            A01|                 A01|\n",
      "|     DCH|truong si quan da...|2019|   7860207|chi huy tham muu ...|     19.9|            A00|                 A00|\n",
      "|     DCH|truong si quan da...|2019|   7860207|chi huy tham muu ...|     19.9|            A01|                 A01|\n",
      "|     DCH|truong si quan da...|2019|   7860207|chi huy tham muu ...|     19.6|            A00|                 A00|\n",
      "|     DCH|truong si quan da...|2019|   7860207|chi huy tham muu ...|     19.6|            A01|                 A01|\n",
      "|     DCH|truong si quan da...|2020|   7860207|chi huy tham muu ...|    24.15|      A00;  A01|                 A00|\n",
      "|     DCH|truong si quan da...|2020|   7860207|chi huy tham muu ...|     23.6|      A00;  A01|                 A00|\n",
      "|     DCH|truong si quan da...|2021|   7860207|chi huy tham muu ...|     23.9|       A00; A01|                 A00|\n",
      "|     DCH|truong si quan da...|2021|   7860207|chi huy tham muu ...|     24.3|       A00; A01|                 A00|\n",
      "|     DCH|truong si quan da...|2022|   7860207|chi huy tham muu ...|     24.0|       A00; A01|                 A00|\n",
      "|     DCH|truong si quan da...|2022|   7860207|chi huy tham muu ...|    20.15|       A00; A01|                 A00|\n",
      "|     BMU|dai hoc buon ma t...|2017|   7720101|              y khoa|     21.5|A02;  B00;  D08|                 A02|\n",
      "|     BMU|dai hoc buon ma t...|2017|   7720201|            duoc hoc|     19.0|A00;  B00;  D07|                 A00|\n",
      "+--------+--------------------+----+----------+--------------------+---------+---------------+--------------------+\n",
      "only showing top 20 rows\n",
      "\n"
     ]
    }
   ],
   "source": [
    "finalDF.show()"
   ]
  },
  {
   "cell_type": "code",
   "execution_count": 55,
   "metadata": {},
   "outputs": [],
   "source": [
    "finalDF = finalDF.drop(col('subject_group'))"
   ]
  },
  {
   "cell_type": "code",
   "execution_count": 63,
   "metadata": {},
   "outputs": [],
   "source": [
    "finalDF = finalDF.withColumnRenamed('single_subject_group', 'subject_group')"
   ]
  },
  {
   "cell_type": "code",
   "execution_count": 64,
   "metadata": {},
   "outputs": [
    {
     "name": "stdout",
     "output_type": "stream",
     "text": [
      "root\n",
      " |-- uni_code: string (nullable = true)\n",
      " |-- uni_name: string (nullable = true)\n",
      " |-- year: integer (nullable = true)\n",
      " |-- major_code: string (nullable = true)\n",
      " |-- major_name: string (nullable = true)\n",
      " |-- benchmark: double (nullable = true)\n",
      " |-- subject_group: string (nullable = false)\n",
      "\n"
     ]
    }
   ],
   "source": [
    "finalDF.printSchema()"
   ]
  },
  {
   "cell_type": "code",
   "execution_count": 66,
   "metadata": {},
   "outputs": [
    {
     "name": "stderr",
     "output_type": "stream",
     "text": [
      "                                                                                \r"
     ]
    },
    {
     "data": {
      "text/plain": [
       "35126"
      ]
     },
     "execution_count": 66,
     "metadata": {},
     "output_type": "execute_result"
    }
   ],
   "source": [
    "finalDF.count()"
   ]
  },
  {
   "cell_type": "code",
   "execution_count": 69,
   "metadata": {},
   "outputs": [
    {
     "name": "stdout",
     "output_type": "stream",
     "text": [
      "+--------+--------+----+----------+----------+---------+-------------+\n",
      "|uni_code|uni_name|year|major_code|major_name|benchmark|subject_group|\n",
      "+--------+--------+----+----------+----------+---------+-------------+\n",
      "+--------+--------+----+----------+----------+---------+-------------+\n",
      "\n"
     ]
    }
   ],
   "source": [
    "finalDF.filter(col('major_code').isin(subject_list)).show()"
   ]
  },
  {
   "cell_type": "code",
   "execution_count": 75,
   "metadata": {},
   "outputs": [
    {
     "name": "stdout",
     "output_type": "stream",
     "text": [
      "+--------+-----------------------------+----+----------+-------------------------------------------------------------------------------------------------+---------+-------------+\n",
      "|uni_code|uni_name                     |year|major_code|major_name                                                                                       |benchmark|subject_group|\n",
      "+--------+-----------------------------+----+----------+-------------------------------------------------------------------------------------------------+---------+-------------+\n",
      "|DHK     |dai hoc kinh te - dai hoc hue|2022|7349001   |tai chinh - ngan hang\\n(lien ket dao tao dong cap bang voi truong dai hoc rennes i, cong hoa phap|16.0     |A00          |\n",
      "+--------+-----------------------------+----+----------+-------------------------------------------------------------------------------------------------+---------+-------------+\n",
      "\n"
     ]
    }
   ],
   "source": [
    "finalDF.filter(col('major_code') == '7349001') \\\n",
    "        .filter(col('uni_code') == 'DHK') \\\n",
    "        .filter(col('year') == 2022).show(5,False)"
   ]
  },
  {
   "attachments": {},
   "cell_type": "markdown",
   "metadata": {},
   "source": [
    "<h2> Remove \\n\\r"
   ]
  },
  {
   "cell_type": "code",
   "execution_count": 76,
   "metadata": {},
   "outputs": [],
   "source": [
    "from pyspark.sql.functions import regexp_replace"
   ]
  },
  {
   "cell_type": "code",
   "execution_count": 77,
   "metadata": {},
   "outputs": [
    {
     "name": "stdout",
     "output_type": "stream",
     "text": [
      "root\n",
      " |-- uni_code: string (nullable = true)\n",
      " |-- uni_name: string (nullable = true)\n",
      " |-- year: integer (nullable = true)\n",
      " |-- major_code: string (nullable = true)\n",
      " |-- major_name: string (nullable = true)\n",
      " |-- benchmark: double (nullable = true)\n",
      " |-- subject_group: string (nullable = false)\n",
      "\n"
     ]
    }
   ],
   "source": [
    "finalDF.printSchema()"
   ]
  },
  {
   "cell_type": "code",
   "execution_count": 78,
   "metadata": {},
   "outputs": [],
   "source": [
    "finalDF = finalDF.withColumn(\"uni_code\", regexp_replace(col(\"uni_code\"), \"\\n|\\r\", \"\")) \\\n",
    "                 .withColumn(\"uni_name\", regexp_replace(col(\"uni_name\"), \"\\n|\\r\", \"\")) \\\n",
    "                 .withColumn(\"major_code\", regexp_replace(col(\"major_code\"), \"\\n|\\r\", \"\")) \\\n",
    "                 .withColumn(\"major_name\", regexp_replace(col(\"major_name\"), \"\\n|\\r\", \"\"))\n",
    "                 "
   ]
  },
  {
   "cell_type": "code",
   "execution_count": 79,
   "metadata": {},
   "outputs": [
    {
     "name": "stderr",
     "output_type": "stream",
     "text": [
      "                                                                                \r"
     ]
    },
    {
     "data": {
      "text/plain": [
       "35126"
      ]
     },
     "execution_count": 79,
     "metadata": {},
     "output_type": "execute_result"
    }
   ],
   "source": [
    "finalDF.count()"
   ]
  },
  {
   "attachments": {},
   "cell_type": "markdown",
   "metadata": {},
   "source": [
    "<h1> Export to \"CSV\" file"
   ]
  },
  {
   "cell_type": "code",
   "execution_count": 80,
   "metadata": {},
   "outputs": [
    {
     "name": "stderr",
     "output_type": "stream",
     "text": [
      "                                                                                \r"
     ]
    }
   ],
   "source": [
    "# output = finalDF.coalesce(1)\n",
    "finalDF.write.option('delimiter', ',').csv('./CleanedDatasets/cleaned_uni_mark', header = True)"
   ]
  },
  {
   "cell_type": "code",
   "execution_count": null,
   "metadata": {},
   "outputs": [],
   "source": []
  }
 ],
 "metadata": {
  "kernelspec": {
   "display_name": "Python 3",
   "language": "python",
   "name": "python3"
  },
  "language_info": {
   "codemirror_mode": {
    "name": "ipython",
    "version": 3
   },
   "file_extension": ".py",
   "mimetype": "text/x-python",
   "name": "python",
   "nbconvert_exporter": "python",
   "pygments_lexer": "ipython3",
   "version": "3.10.6"
  },
  "orig_nbformat": 4,
  "vscode": {
   "interpreter": {
    "hash": "31f2aee4e71d21fbe5cf8b01ff0e069b9275f58929596ceb00d14d90e3e16cd6"
   }
  }
 },
 "nbformat": 4,
 "nbformat_minor": 2
}
