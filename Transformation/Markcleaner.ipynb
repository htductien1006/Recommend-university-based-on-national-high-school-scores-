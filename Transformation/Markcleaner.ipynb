{
 "cells": [
  {
   "cell_type": "code",
   "execution_count": null,
   "metadata": {},
   "outputs": [],
   "source": [
    "import findspark\n",
    "findspark.init('/home/ductien/spark-3.3.2-bin-hadoop3')\n",
    "import pyspark\n",
    "from pyspark.sql import SparkSession\n",
    "from pyspark.sql.functions import lit, col"
   ]
  },
  {
   "cell_type": "code",
   "execution_count": 2,
   "metadata": {},
   "outputs": [
    {
     "name": "stdout",
     "output_type": "stream",
     "text": [
      "23/04/28 01:34:45 WARN Utils: Your hostname, DT-Kubuntu resolves to a loopback address: 127.0.1.1; using 192.168.2.143 instead (on interface wlp3s0)\n",
      "23/04/28 01:34:45 WARN Utils: Set SPARK_LOCAL_IP if you need to bind to another address\n"
     ]
    },
    {
     "name": "stderr",
     "output_type": "stream",
     "text": [
      "Setting default log level to \"WARN\".\n",
      "To adjust logging level use sc.setLogLevel(newLevel). For SparkR, use setLogLevel(newLevel).\n"
     ]
    },
    {
     "name": "stdout",
     "output_type": "stream",
     "text": [
      "23/04/28 01:34:46 WARN NativeCodeLoader: Unable to load native-hadoop library for your platform... using builtin-java classes where applicable\n",
      "23/04/28 01:34:48 WARN Utils: Service 'SparkUI' could not bind on port 4040. Attempting port 4041.\n"
     ]
    }
   ],
   "source": [
    "#create Spark Session\n",
    "spark = SparkSession.builder.appName('cleaning').getOrCreate()"
   ]
  },
  {
   "cell_type": "code",
   "execution_count": 3,
   "metadata": {},
   "outputs": [
    {
     "name": "stderr",
     "output_type": "stream",
     "text": [
      "                                                                                \r"
     ]
    }
   ],
   "source": [
    "#Read data\n",
    "mark2017 = spark.read.csv('./Datasets/2017.csv', header= True, inferSchema= True)\n",
    "fullMark = spark.read.csv('./Datasets/full_exam.csv', header= True, inferSchema= True)\n",
    "matinh = spark.read.csv('./Datasets/matinh.csv', header = True, inferSchema = True)"
   ]
  },
  {
   "cell_type": "code",
   "execution_count": 4,
   "metadata": {},
   "outputs": [
    {
     "name": "stdout",
     "output_type": "stream",
     "text": [
      "root\n",
      " |-- SBD: integer (nullable = true)\n",
      " |-- Toan: double (nullable = true)\n",
      " |-- Van: double (nullable = true)\n",
      " |-- Ngoai ngu: double (nullable = true)\n",
      " |-- Ly: double (nullable = true)\n",
      " |-- Hoa: double (nullable = true)\n",
      " |-- Sinh: double (nullable = true)\n",
      " |-- Lich su: double (nullable = true)\n",
      " |-- Dia ly: double (nullable = true)\n",
      " |-- GDCD: double (nullable = true)\n",
      " |-- Year: integer (nullable = true)\n",
      " |-- MaTinh: integer (nullable = true)\n",
      "\n"
     ]
    }
   ],
   "source": [
    "fullMark.printSchema()"
   ]
  },
  {
   "cell_type": "code",
   "execution_count": 5,
   "metadata": {},
   "outputs": [
    {
     "name": "stdout",
     "output_type": "stream",
     "text": [
      "+-------+----+----+---------+----+----+----+-------+------+----+----+------+\n",
      "|    SBD|Toan| Van|Ngoai ngu|  Ly| Hoa|Sinh|Lich su|Dia ly|GDCD|Year|MaTinh|\n",
      "+-------+----+----+---------+----+----+----+-------+------+----+----+------+\n",
      "|8002816| 7.8|8.25|      6.2| 7.5|null| 7.0|   null|  null|null|2017|     8|\n",
      "|8005707| 3.0|3.25|      3.2|2.75|null| 3.0|   null|  null|null|2017|     8|\n",
      "|8004883| 6.0|5.25|      4.8|null|null|null|   null|  null|null|2017|     8|\n",
      "|8004786| 2.4|3.75|     null|null|null|null|   null|  null|null|2017|     8|\n",
      "|8004225| 4.2| 4.0|      3.0|null|null|null|   null|  null|null|2017|     8|\n",
      "|8001882| 3.2|5.75|      3.8|null|null|null|   null|  null|null|2017|     8|\n",
      "|8003558| 4.6| 6.0|     null|null|null|null|   null|  null|null|2017|     8|\n",
      "|8004936| 4.0|5.75|      2.8|null|null|null|   null|  null|null|2017|     8|\n",
      "|8001749| 1.4| 3.5|     null|null|null|null|   null|  null|null|2017|     8|\n",
      "|8000321| 4.2|6.75|      4.0|4.75|null| 4.5|   null|  null|null|2017|     8|\n",
      "|8002007| 6.0|6.25|      3.8|null|null|null|   null|  null|null|2017|     8|\n",
      "|8004580| 2.6| 5.0|      2.8|null|null|null|   null|  null|null|2017|     8|\n",
      "|8004606| 1.8| 3.5|      2.4|null|null|null|   null|  null|null|2017|     8|\n",
      "|8004354| 4.8|6.25|      3.4|null|null|null|   null|  null|null|2017|     8|\n",
      "|8002236| 3.4|5.25|      3.4|null|null|null|   null|  null|null|2017|     8|\n",
      "|8003514| 5.8|5.25|      6.4| 6.5|null|6.25|   null|  null|null|2017|     8|\n",
      "|8004288| 3.2|4.75|      3.4|null|null|null|   null|  null|null|2017|     8|\n",
      "|8002996| 8.0| 7.5|      5.0| 7.5|null|3.75|   null|  null|null|2017|     8|\n",
      "|8001343| 5.0|6.75|      5.2| 4.5|null| 6.0|   null|  null|null|2017|     8|\n",
      "|8001461| 4.0|5.25|      3.8|null|null|null|   null|  null|null|2017|     8|\n",
      "+-------+----+----+---------+----+----+----+-------+------+----+----+------+\n",
      "only showing top 20 rows\n",
      "\n"
     ]
    }
   ],
   "source": [
    "fullMark.show()"
   ]
  },
  {
   "cell_type": "code",
   "execution_count": 6,
   "metadata": {},
   "outputs": [],
   "source": [
    "# Remove all row which have 'year' = 2017 because of too many null value\n",
    "fullMark = fullMark.filter(fullMark['year'] != 2017)"
   ]
  },
  {
   "cell_type": "code",
   "execution_count": 7,
   "metadata": {},
   "outputs": [
    {
     "name": "stderr",
     "output_type": "stream",
     "text": [
      "[Stage 8:============================================>              (3 + 1) / 4]\r"
     ]
    },
    {
     "name": "stdout",
     "output_type": "stream",
     "text": [
      "+--------+----+----+---------+----+----+----+-------+------+----+----+------+\n",
      "|     SBD|Toan| Van|Ngoai ngu|  Ly| Hoa|Sinh|Lich su|Dia ly|GDCD|Year|MaTinh|\n",
      "+--------+----+----+---------+----+----+----+-------+------+----+----+------+\n",
      "|18010226| 3.0|3.75|      3.0|null|null|null|    3.0|   6.5|8.25|2018|    18|\n",
      "|18010229| 8.8| 7.5|      9.0|null|null|null|    6.0|   9.0|8.25|2018|    18|\n",
      "|18010232| 6.0| 5.5|      4.0|5.75| 5.5| 5.0|   null|  null|null|2018|    18|\n",
      "|18010242| 3.4|5.75|      2.6|null|null|null|    3.5|  4.75|7.25|2018|    18|\n",
      "|18010247| 3.8|6.75|      3.0|null|null|null|    3.5|  6.25| 8.0|2018|    18|\n",
      "|18010252| 5.0| 6.5|      2.2| 2.0| 3.5|4.25|   null|  null|null|2018|    18|\n",
      "|18010259| 2.4|6.25|      3.6|null|null|null|    5.0|   6.0| 8.0|2018|    18|\n",
      "|18010262| 2.6|3.75|      3.0|null|null|null|    3.0|   4.5|7.75|2018|    18|\n",
      "|18010265| 4.8|7.25|      2.2| 4.0| 5.0|4.25|   null|  null|null|2018|    18|\n",
      "|18010268| 6.0| 6.5|      4.6|3.75|6.25|5.75|   null|  null|null|2018|    18|\n",
      "|18010270| 3.4| 4.0|      2.4|null|null|null|   3.75|   5.5| 6.5|2018|    18|\n",
      "|18010287| 4.2| 5.0|      4.0| 3.5| 4.0| 5.0|   null|  null|null|2018|    18|\n",
      "|18010289| 6.0|3.25|      3.2| 2.0|2.75| 4.0|   null|  null|null|2018|    18|\n",
      "|18010292| 3.4|3.75|      4.8|null|null|null|   3.75|   6.0| 8.0|2018|    18|\n",
      "|18010296| 3.4| 5.0|      1.4|null|null|null|   2.25|  4.75| 6.5|2018|    18|\n",
      "|18009287| 5.4| 6.5|      6.6|null|null|null|    3.0|   6.5|7.25|2018|    18|\n",
      "|18009301| 5.8|5.25|      4.8| 4.0|5.75| 4.0|   null|  null|null|2018|    18|\n",
      "|18009419| 4.8|6.25|      3.2|null|null|null|   4.25|   5.5| 7.5|2018|    18|\n",
      "|18009428| 6.6| 7.5|      5.0|6.25|4.25|4.25|   5.25|  7.75| 9.0|2018|    18|\n",
      "|18010011| 5.4| 6.5|      3.6|4.75|3.75|2.75|   null|  null|null|2018|    18|\n",
      "+--------+----+----+---------+----+----+----+-------+------+----+----+------+\n",
      "only showing top 20 rows\n",
      "\n"
     ]
    },
    {
     "name": "stderr",
     "output_type": "stream",
     "text": [
      "                                                                                \r"
     ]
    }
   ],
   "source": [
    "fullMark.show()"
   ]
  },
  {
   "cell_type": "markdown",
   "metadata": {},
   "source": [
    "<h2> Map province and province code </h2?"
   ]
  },
  {
   "cell_type": "code",
   "execution_count": 4,
   "metadata": {},
   "outputs": [],
   "source": [
    "import unidecode\n",
    "def remove_accent(text):\n",
    "    tmp = unidecode.unidecode(text)\n",
    "    return tmp.lower().replace(' ', '')"
   ]
  },
  {
   "cell_type": "code",
   "execution_count": 5,
   "metadata": {},
   "outputs": [],
   "source": [
    "from pyspark.sql.functions import udf"
   ]
  },
  {
   "cell_type": "code",
   "execution_count": 6,
   "metadata": {},
   "outputs": [],
   "source": [
    "from pyspark.sql.types import StructField,StringType,IntegerType,StructType"
   ]
  },
  {
   "cell_type": "code",
   "execution_count": 7,
   "metadata": {},
   "outputs": [],
   "source": [
    "remove_accent_udf = udf(remove_accent, StringType())\n",
    "mark2017 = mark2017.withColumn('province', remove_accent_udf(mark2017['province']))"
   ]
  },
  {
   "cell_type": "code",
   "execution_count": 8,
   "metadata": {},
   "outputs": [
    {
     "name": "stdout",
     "output_type": "stream",
     "text": [
      "root\n",
      " |-- student_id: integer (nullable = true)\n",
      " |-- province: string (nullable = true)\n",
      " |-- mathematics: double (nullable = true)\n",
      " |-- literature: double (nullable = true)\n",
      " |-- physics: double (nullable = true)\n",
      " |-- chemistry: double (nullable = true)\n",
      " |-- biology: double (nullable = true)\n",
      " |-- combined_natural_sciences: double (nullable = true)\n",
      " |-- history: double (nullable = true)\n",
      " |-- geography: double (nullable = true)\n",
      " |-- civic_education: double (nullable = true)\n",
      " |-- combined_social_sciences: double (nullable = true)\n",
      " |-- english: double (nullable = true)\n",
      "\n"
     ]
    }
   ],
   "source": [
    "mark2017.printSchema()"
   ]
  },
  {
   "cell_type": "code",
   "execution_count": 13,
   "metadata": {},
   "outputs": [],
   "source": [
    "# add 'year' columns with a default value 2017\n",
    "mark2017 = mark2017.withColumn('year', lit(2017))"
   ]
  },
  {
   "cell_type": "code",
   "execution_count": 14,
   "metadata": {},
   "outputs": [
    {
     "name": "stderr",
     "output_type": "stream",
     "text": [
      "[Stage 9:>                                                        (0 + 13) / 13]\r"
     ]
    },
    {
     "name": "stdout",
     "output_type": "stream",
     "text": [
      "+----------+---------+-----------+----------+-------+---------+-------+-------------------------+-------+---------+---------------+------------------------+-------+----+\n",
      "|student_id| province|mathematics|literature|physics|chemistry|biology|combined_natural_sciences|history|geography|civic_education|combined_social_sciences|english|year|\n",
      "+----------+---------+-----------+----------+-------+---------+-------+-------------------------+-------+---------+---------------+------------------------+-------+----+\n",
      "|  47006585|binhthuan|        6.8|      5.25|   5.25|      5.5|    5.0|                     5.25|    4.0|      7.5|            8.5|                    6.67|    5.8|2017|\n",
      "|  47003701|binhthuan|        3.4|      6.25|   null|     null|   null|                     null|   2.25|      3.5|           5.25|                    3.67|    3.6|2017|\n",
      "|  47007840|binhthuan|        5.4|       5.5|   null|     null|   null|                     null|   7.25|     8.25|            8.5|                     8.0|    2.8|2017|\n",
      "|  47006513|binhthuan|        4.4|       5.5|   null|     null|   null|                     null|    4.5|     5.25|            8.0|                    5.92|    5.0|2017|\n",
      "|  47000048|binhthuan|        5.6|       5.5|    5.0|      6.5|    6.5|                      6.0|   5.75|      9.0|           7.75|                     7.5|    5.6|2017|\n",
      "+----------+---------+-----------+----------+-------+---------+-------+-------------------------+-------+---------+---------------+------------------------+-------+----+\n",
      "\n"
     ]
    },
    {
     "name": "stderr",
     "output_type": "stream",
     "text": [
      "                                                                                \r"
     ]
    }
   ],
   "source": [
    "mark2017.limit(5).show()"
   ]
  },
  {
   "attachments": {},
   "cell_type": "markdown",
   "metadata": {},
   "source": [
    "<h2> Remove all blank spaces and special characters in 'province' column"
   ]
  },
  {
   "cell_type": "code",
   "execution_count": 14,
   "metadata": {},
   "outputs": [],
   "source": [
    "from pyspark.sql.functions import array_join, regexp_replace"
   ]
  },
  {
   "cell_type": "code",
   "execution_count": 15,
   "metadata": {},
   "outputs": [],
   "source": [
    "matinh = matinh.withColumn(\"province\", regexp_replace(\"province\", \"\\\\s+\", \"\"))\n",
    "matinh = matinh.withColumn('province', regexp_replace('province', \"-\", \"\"))"
   ]
  },
  {
   "cell_type": "code",
   "execution_count": 16,
   "metadata": {},
   "outputs": [
    {
     "data": {
      "text/plain": [
       "63"
      ]
     },
     "execution_count": 16,
     "metadata": {},
     "output_type": "execute_result"
    }
   ],
   "source": [
    "matinh.count()"
   ]
  },
  {
   "cell_type": "code",
   "execution_count": 17,
   "metadata": {},
   "outputs": [
    {
     "name": "stdout",
     "output_type": "stream",
     "text": [
      "+------+------------+\n",
      "|MaTinh|    province|\n",
      "+------+------------+\n",
      "|     1|       hanoi|\n",
      "|     2|tp.hochiminh|\n",
      "|     3|    haiphong|\n",
      "|     4|      danang|\n",
      "|     5|     hagiang|\n",
      "+------+------------+\n",
      "\n"
     ]
    }
   ],
   "source": [
    "matinh.limit(5).show()"
   ]
  },
  {
   "cell_type": "code",
   "execution_count": 18,
   "metadata": {},
   "outputs": [
    {
     "name": "stdout",
     "output_type": "stream",
     "text": [
      "root\n",
      " |-- MaTinh: integer (nullable = true)\n",
      " |-- province: string (nullable = true)\n",
      "\n"
     ]
    }
   ],
   "source": [
    "matinh.printSchema()"
   ]
  },
  {
   "cell_type": "code",
   "execution_count": 19,
   "metadata": {},
   "outputs": [
    {
     "name": "stdout",
     "output_type": "stream",
     "text": [
      "+------+--------+\n",
      "|MaTinh|province|\n",
      "+------+--------+\n",
      "|    39|  phuyen|\n",
      "+------+--------+\n",
      "\n"
     ]
    }
   ],
   "source": [
    "matinh.filter(matinh['MaTinh'] == 39).show()"
   ]
  },
  {
   "attachments": {},
   "cell_type": "markdown",
   "metadata": {},
   "source": [
    "<h2> Map province and province code respectively"
   ]
  },
  {
   "cell_type": "code",
   "execution_count": 20,
   "metadata": {},
   "outputs": [],
   "source": [
    "mapedDF = mark2017.join(matinh, on=['province'], how = 'left')"
   ]
  },
  {
   "cell_type": "code",
   "execution_count": 21,
   "metadata": {},
   "outputs": [
    {
     "name": "stdout",
     "output_type": "stream",
     "text": [
      "root\n",
      " |-- province: string (nullable = true)\n",
      " |-- student_id: integer (nullable = true)\n",
      " |-- mathematics: double (nullable = true)\n",
      " |-- literature: double (nullable = true)\n",
      " |-- physics: double (nullable = true)\n",
      " |-- chemistry: double (nullable = true)\n",
      " |-- biology: double (nullable = true)\n",
      " |-- combined_natural_sciences: double (nullable = true)\n",
      " |-- history: double (nullable = true)\n",
      " |-- geography: double (nullable = true)\n",
      " |-- civic_education: double (nullable = true)\n",
      " |-- combined_social_sciences: double (nullable = true)\n",
      " |-- english: double (nullable = true)\n",
      " |-- year: integer (nullable = false)\n",
      " |-- MaTinh: integer (nullable = true)\n",
      "\n"
     ]
    }
   ],
   "source": [
    "mapedDF.printSchema()"
   ]
  },
  {
   "cell_type": "code",
   "execution_count": 22,
   "metadata": {},
   "outputs": [
    {
     "name": "stderr",
     "output_type": "stream",
     "text": [
      "                                                                                \r"
     ]
    },
    {
     "data": {
      "text/plain": [
       "63"
      ]
     },
     "execution_count": 22,
     "metadata": {},
     "output_type": "execute_result"
    }
   ],
   "source": [
    "mapedDF.createOrReplaceTempView(\"TAB\")\n",
    "spark.sql(\"select distinct province, MaTinh from TAB\").count()"
   ]
  },
  {
   "cell_type": "code",
   "execution_count": 23,
   "metadata": {},
   "outputs": [],
   "source": [
    "mapedDF =  mapedDF.withColumnRenamed('MaTinh', 'province_code')"
   ]
  },
  {
   "attachments": {},
   "cell_type": "markdown",
   "metadata": {},
   "source": [
    "<h1> Cleaned mark 2017 </h1>"
   ]
  },
  {
   "cell_type": "code",
   "execution_count": 24,
   "metadata": {},
   "outputs": [],
   "source": [
    "from pyspark.sql.functions import isnan, isnull, when, count"
   ]
  },
  {
   "cell_type": "code",
   "execution_count": 25,
   "metadata": {},
   "outputs": [
    {
     "name": "stdout",
     "output_type": "stream",
     "text": [
      "root\n",
      " |-- province: string (nullable = true)\n",
      " |-- student_id: integer (nullable = true)\n",
      " |-- mathematics: double (nullable = true)\n",
      " |-- literature: double (nullable = true)\n",
      " |-- physics: double (nullable = true)\n",
      " |-- chemistry: double (nullable = true)\n",
      " |-- biology: double (nullable = true)\n",
      " |-- combined_natural_sciences: double (nullable = true)\n",
      " |-- history: double (nullable = true)\n",
      " |-- geography: double (nullable = true)\n",
      " |-- civic_education: double (nullable = true)\n",
      " |-- combined_social_sciences: double (nullable = true)\n",
      " |-- english: double (nullable = true)\n",
      " |-- year: integer (nullable = false)\n",
      " |-- province_code: integer (nullable = true)\n",
      "\n"
     ]
    }
   ],
   "source": [
    "mapedDF.printSchema()"
   ]
  },
  {
   "cell_type": "code",
   "execution_count": 26,
   "metadata": {},
   "outputs": [],
   "source": [
    "checkingColumn = ['student_id', 'mathematics', 'literature', 'english', 'province', 'province_code', 'year', 'combined_natural_sciences', 'combined_social_sciences']"
   ]
  },
  {
   "cell_type": "code",
   "execution_count": 27,
   "metadata": {},
   "outputs": [],
   "source": [
    "countNullDF = mapedDF.select([count(when(isnan(c) | isnull(c), c)).alias(c) for c in checkingColumn])"
   ]
  },
  {
   "cell_type": "code",
   "execution_count": 28,
   "metadata": {},
   "outputs": [
    {
     "name": "stderr",
     "output_type": "stream",
     "text": [
      "[Stage 28:=======================================>                 (9 + 4) / 13]\r"
     ]
    },
    {
     "name": "stdout",
     "output_type": "stream",
     "text": [
      "+----------+-----------+----------+-------+--------+-------------+----+-------------------------+------------------------+\n",
      "|student_id|mathematics|literature|english|province|province_code|year|combined_natural_sciences|combined_social_sciences|\n",
      "+----------+-----------+----------+-------+--------+-------------+----+-------------------------+------------------------+\n",
      "|         0|      17743|     37456| 120324|       0|            0|   0|                   468713|                  427120|\n",
      "+----------+-----------+----------+-------+--------+-------------+----+-------------------------+------------------------+\n",
      "\n"
     ]
    },
    {
     "name": "stderr",
     "output_type": "stream",
     "text": [
      "                                                                                \r"
     ]
    }
   ],
   "source": [
    "countNullDF.show()"
   ]
  },
  {
   "cell_type": "code",
   "execution_count": 64,
   "metadata": {},
   "outputs": [
    {
     "name": "stderr",
     "output_type": "stream",
     "text": [
      "                                                                                \r"
     ]
    },
    {
     "data": {
      "text/plain": [
       "847348"
      ]
     },
     "execution_count": 64,
     "metadata": {},
     "output_type": "execute_result"
    }
   ],
   "source": [
    "mapedDF.count()"
   ]
  },
  {
   "cell_type": "code",
   "execution_count": 36,
   "metadata": {},
   "outputs": [
    {
     "name": "stderr",
     "output_type": "stream",
     "text": [
      "                                                                                \r"
     ]
    },
    {
     "data": {
      "text/plain": [
       "63"
      ]
     },
     "execution_count": 36,
     "metadata": {},
     "output_type": "execute_result"
    }
   ],
   "source": [
    "mapedDF.select(col('province_code')).distinct().count()"
   ]
  },
  {
   "cell_type": "code",
   "execution_count": 32,
   "metadata": {},
   "outputs": [],
   "source": [
    "cleanedMark_2017 = mapedDF.dropna(subset=[\"mathematics\", \"literature\", \"english\"])"
   ]
  },
  {
   "cell_type": "markdown",
   "metadata": {},
   "source": []
  },
  {
   "cell_type": "code",
   "execution_count": 33,
   "metadata": {},
   "outputs": [],
   "source": [
    "testDF = mapedDF.dropna(subset=[\"mathematics\", \"literature\", \"english\"])"
   ]
  },
  {
   "cell_type": "code",
   "execution_count": 34,
   "metadata": {},
   "outputs": [
    {
     "name": "stderr",
     "output_type": "stream",
     "text": [
      "                                                                                \r"
     ]
    },
    {
     "data": {
      "text/plain": [
       "721756"
      ]
     },
     "execution_count": 34,
     "metadata": {},
     "output_type": "execute_result"
    }
   ],
   "source": [
    "cleanedMark_2017.count()"
   ]
  },
  {
   "cell_type": "code",
   "execution_count": 35,
   "metadata": {},
   "outputs": [
    {
     "name": "stderr",
     "output_type": "stream",
     "text": [
      "                                                                                \r"
     ]
    },
    {
     "data": {
      "text/plain": [
       "61"
      ]
     },
     "execution_count": 35,
     "metadata": {},
     "output_type": "execute_result"
    }
   ],
   "source": [
    "cleanedMark_2017.select(col('province_code')).distinct().count()"
   ]
  },
  {
   "cell_type": "code",
   "execution_count": 73,
   "metadata": {},
   "outputs": [
    {
     "name": "stderr",
     "output_type": "stream",
     "text": [
      "                                                                                \r"
     ]
    },
    {
     "data": {
      "text/plain": [
       "721756"
      ]
     },
     "execution_count": 73,
     "metadata": {},
     "output_type": "execute_result"
    }
   ],
   "source": [
    "testDF.count()"
   ]
  },
  {
   "attachments": {},
   "cell_type": "markdown",
   "metadata": {},
   "source": [
    "<h2> Remove all rows which has mark <= 1"
   ]
  },
  {
   "cell_type": "code",
   "execution_count": 101,
   "metadata": {},
   "outputs": [],
   "source": [
    "cleanedMark_2017 = cleanedMark_2017.filter(~isnull(cleanedMark_2017.mathematics) & (cleanedMark_2017.mathematics > 1)) \\\n",
    "               .filter(~isnull(cleanedMark_2017.literature) & (cleanedMark_2017.literature > 1)) \\\n",
    "               .filter(isnull(cleanedMark_2017.physics) | (~isnull(cleanedMark_2017.physics) & (cleanedMark_2017.physics > 1))) \\\n",
    "               .filter(isnull(cleanedMark_2017.chemistry) | (~isnull(cleanedMark_2017.chemistry) & (cleanedMark_2017.chemistry > 1))) \\\n",
    "               .filter(isnull(cleanedMark_2017.biology) | (~isnull(cleanedMark_2017.biology) & (cleanedMark_2017.biology > 1))) \\\n",
    "               .filter(isnull(cleanedMark_2017.history) | (~isnull(cleanedMark_2017.history) & (cleanedMark_2017.history > 1))) \\\n",
    "               .filter(isnull(cleanedMark_2017.geography) | (~isnull(cleanedMark_2017.geography) & (cleanedMark_2017.geography > 1))) \\\n",
    "               .filter(isnull(cleanedMark_2017.civic_education) | (~isnull(cleanedMark_2017.civic_education) & (cleanedMark_2017.civic_education > 1))) \\\n",
    "               .filter(~isnull(cleanedMark_2017.english) & (cleanedMark_2017.english > 1))"
   ]
  },
  {
   "cell_type": "code",
   "execution_count": 102,
   "metadata": {},
   "outputs": [
    {
     "name": "stderr",
     "output_type": "stream",
     "text": [
      "                                                                                \r"
     ]
    },
    {
     "data": {
      "text/plain": [
       "719488"
      ]
     },
     "execution_count": 102,
     "metadata": {},
     "output_type": "execute_result"
    }
   ],
   "source": [
    "cleanedMark_2017.count()"
   ]
  },
  {
   "attachments": {},
   "cell_type": "markdown",
   "metadata": {},
   "source": [
    "<h1>Export mark_2017 to csv file"
   ]
  },
  {
   "cell_type": "code",
   "execution_count": 103,
   "metadata": {},
   "outputs": [
    {
     "name": "stderr",
     "output_type": "stream",
     "text": [
      "                                                                                \r"
     ]
    }
   ],
   "source": [
    "output = cleanedMark_2017.coalesce(1)\n",
    "output.write.option('delimiter', ',').csv('./CleanedDatasets/Mark2017', header = True)"
   ]
  },
  {
   "attachments": {},
   "cell_type": "markdown",
   "metadata": {},
   "source": [
    "<h1> Reformat full mark, removed 2017 <h1>"
   ]
  },
  {
   "cell_type": "code",
   "execution_count": 104,
   "metadata": {},
   "outputs": [
    {
     "name": "stderr",
     "output_type": "stream",
     "text": [
      "                                                                                \r"
     ]
    },
    {
     "data": {
      "text/plain": [
       "4347281"
      ]
     },
     "execution_count": 104,
     "metadata": {},
     "output_type": "execute_result"
    }
   ],
   "source": [
    "fullMark.count()"
   ]
  },
  {
   "cell_type": "code",
   "execution_count": 105,
   "metadata": {},
   "outputs": [
    {
     "name": "stdout",
     "output_type": "stream",
     "text": [
      "root\n",
      " |-- SBD: integer (nullable = true)\n",
      " |-- Toan: double (nullable = true)\n",
      " |-- Van: double (nullable = true)\n",
      " |-- Ngoai ngu: double (nullable = true)\n",
      " |-- Ly: double (nullable = true)\n",
      " |-- Hoa: double (nullable = true)\n",
      " |-- Sinh: double (nullable = true)\n",
      " |-- Lich su: double (nullable = true)\n",
      " |-- Dia ly: double (nullable = true)\n",
      " |-- GDCD: double (nullable = true)\n",
      " |-- Year: integer (nullable = true)\n",
      " |-- MaTinh: integer (nullable = true)\n",
      "\n"
     ]
    }
   ],
   "source": [
    "fullMark.printSchema()"
   ]
  },
  {
   "cell_type": "code",
   "execution_count": 106,
   "metadata": {},
   "outputs": [],
   "source": [
    "fullMark = fullMark.withColumnRenamed('SBD', 'student_id')\\\n",
    "                   .withColumnRenamed('Toan', 'mathematics')\\\n",
    "                   .withColumnRenamed('Van', 'literature')\\\n",
    "                    .withColumnRenamed('Ngoai ngu', 'english')\\\n",
    "                    .withColumnRenamed('Ly', 'physics')\\\n",
    "                    .withColumnRenamed('Hoa', 'chemistry')\\\n",
    "                    .withColumnRenamed('Sinh', 'biology')\\\n",
    "                    .withColumnRenamed('Lich su', 'history')\\\n",
    "                    .withColumnRenamed('Dia ly', 'geography')\\\n",
    "                    .withColumnRenamed('GDCD', 'civic_education')\\\n",
    "                    .withColumnRenamed('MaTinh', 'province_code')"
   ]
  },
  {
   "cell_type": "code",
   "execution_count": 107,
   "metadata": {},
   "outputs": [
    {
     "name": "stdout",
     "output_type": "stream",
     "text": [
      "root\n",
      " |-- province: string (nullable = true)\n",
      " |-- student_id: integer (nullable = true)\n",
      " |-- mathematics: double (nullable = true)\n",
      " |-- literature: double (nullable = true)\n",
      " |-- physics: double (nullable = true)\n",
      " |-- chemistry: double (nullable = true)\n",
      " |-- biology: double (nullable = true)\n",
      " |-- combined_natural_sciences: double (nullable = true)\n",
      " |-- history: double (nullable = true)\n",
      " |-- geography: double (nullable = true)\n",
      " |-- civic_education: double (nullable = true)\n",
      " |-- combined_social_sciences: double (nullable = true)\n",
      " |-- english: double (nullable = true)\n",
      " |-- year: integer (nullable = false)\n",
      " |-- province_code: integer (nullable = true)\n",
      "\n"
     ]
    }
   ],
   "source": [
    "mapedDF.printSchema()"
   ]
  },
  {
   "cell_type": "code",
   "execution_count": 108,
   "metadata": {},
   "outputs": [
    {
     "name": "stdout",
     "output_type": "stream",
     "text": [
      "root\n",
      " |-- student_id: integer (nullable = true)\n",
      " |-- mathematics: double (nullable = true)\n",
      " |-- literature: double (nullable = true)\n",
      " |-- english: double (nullable = true)\n",
      " |-- physics: double (nullable = true)\n",
      " |-- chemistry: double (nullable = true)\n",
      " |-- biology: double (nullable = true)\n",
      " |-- history: double (nullable = true)\n",
      " |-- geography: double (nullable = true)\n",
      " |-- civic_education: double (nullable = true)\n",
      " |-- Year: integer (nullable = true)\n",
      " |-- province_code: integer (nullable = true)\n",
      "\n"
     ]
    }
   ],
   "source": [
    "fullMark.printSchema()"
   ]
  },
  {
   "cell_type": "code",
   "execution_count": 109,
   "metadata": {},
   "outputs": [],
   "source": [
    "from pyspark.sql.functions import avg, array\n",
    "from pyspark.sql.types import DoubleType"
   ]
  },
  {
   "cell_type": "code",
   "execution_count": 110,
   "metadata": {},
   "outputs": [],
   "source": [
    "avg_cols = udf(lambda array: sum(array)/len(array), DoubleType())"
   ]
  },
  {
   "cell_type": "code",
   "execution_count": 111,
   "metadata": {},
   "outputs": [],
   "source": [
    "from pyspark.sql.functions import round"
   ]
  },
  {
   "cell_type": "code",
   "execution_count": 112,
   "metadata": {},
   "outputs": [],
   "source": [
    "fullMark = fullMark.withColumn('combined_natural_sciences', round((fullMark.physics + fullMark.chemistry + fullMark.biology) / 3, 2))\\\n",
    "        .withColumn('combined_social_sciences', round((fullMark.history + fullMark.geography + fullMark.civic_education) /3 , 2))"
   ]
  },
  {
   "cell_type": "code",
   "execution_count": 113,
   "metadata": {},
   "outputs": [
    {
     "name": "stderr",
     "output_type": "stream",
     "text": [
      "[Stage 241:================================================>      (14 + 2) / 16]\r"
     ]
    },
    {
     "name": "stdout",
     "output_type": "stream",
     "text": [
      "+----------+-----------+----------+-------+-------+---------+-------+-------+---------+---------------+----+-------------+-------------------------+------------------------+\n",
      "|student_id|mathematics|literature|english|physics|chemistry|biology|history|geography|civic_education|Year|province_code|combined_natural_sciences|combined_social_sciences|\n",
      "+----------+-----------+----------+-------+-------+---------+-------+-------+---------+---------------+----+-------------+-------------------------+------------------------+\n",
      "|  18010226|        3.0|      3.75|    3.0|   null|     null|   null|    3.0|      6.5|           8.25|2018|           18|                     null|                    5.92|\n",
      "|  18010229|        8.8|       7.5|    9.0|   null|     null|   null|    6.0|      9.0|           8.25|2018|           18|                     null|                    7.75|\n",
      "|  18010232|        6.0|       5.5|    4.0|   5.75|      5.5|    5.0|   null|     null|           null|2018|           18|                     5.42|                    null|\n",
      "|  18010242|        3.4|      5.75|    2.6|   null|     null|   null|    3.5|     4.75|           7.25|2018|           18|                     null|                    5.17|\n",
      "|  18010247|        3.8|      6.75|    3.0|   null|     null|   null|    3.5|     6.25|            8.0|2018|           18|                     null|                    5.92|\n",
      "+----------+-----------+----------+-------+-------+---------+-------+-------+---------+---------------+----+-------------+-------------------------+------------------------+\n",
      "\n"
     ]
    },
    {
     "name": "stderr",
     "output_type": "stream",
     "text": [
      "                                                                                \r"
     ]
    }
   ],
   "source": [
    "fullMark.limit(5).show()"
   ]
  },
  {
   "cell_type": "code",
   "execution_count": 114,
   "metadata": {},
   "outputs": [],
   "source": [
    "checkingColumn = ['student_id', 'mathematics', 'literature', 'english', 'province_code', 'year', 'combined_natural_sciences', 'combined_social_sciences']"
   ]
  },
  {
   "cell_type": "code",
   "execution_count": 115,
   "metadata": {},
   "outputs": [],
   "source": [
    "countNullDF = fullMark.select([count(when(isnan(c) | isnull(c), c)).alias(c) for c in checkingColumn])"
   ]
  },
  {
   "cell_type": "code",
   "execution_count": 116,
   "metadata": {},
   "outputs": [
    {
     "name": "stderr",
     "output_type": "stream",
     "text": [
      "[Stage 244:==================================>                    (10 + 6) / 16]\r"
     ]
    },
    {
     "name": "stdout",
     "output_type": "stream",
     "text": [
      "+----------+-----------+----------+-------+-------------+----+-------------------------+------------------------+\n",
      "|student_id|mathematics|literature|english|province_code|year|combined_natural_sciences|combined_social_sciences|\n",
      "+----------+-----------+----------+-------+-------------+----+-------------------------+------------------------+\n",
      "|         0|      33339|     68832| 503495|            0|   0|                  2818286|                 1970293|\n",
      "+----------+-----------+----------+-------+-------------+----+-------------------------+------------------------+\n",
      "\n"
     ]
    },
    {
     "name": "stderr",
     "output_type": "stream",
     "text": [
      "                                                                                \r"
     ]
    }
   ],
   "source": [
    "countNullDF.show()"
   ]
  },
  {
   "cell_type": "code",
   "execution_count": 117,
   "metadata": {},
   "outputs": [
    {
     "name": "stderr",
     "output_type": "stream",
     "text": [
      "                                                                                \r"
     ]
    },
    {
     "data": {
      "text/plain": [
       "4347281"
      ]
     },
     "execution_count": 117,
     "metadata": {},
     "output_type": "execute_result"
    }
   ],
   "source": [
    "fullMark.count()"
   ]
  },
  {
   "cell_type": "code",
   "execution_count": 118,
   "metadata": {},
   "outputs": [],
   "source": [
    "cleanedMark_2018_2022 = fullMark.dropna(subset=[\"mathematics\", \"literature\", \"english\"])"
   ]
  },
  {
   "cell_type": "code",
   "execution_count": 119,
   "metadata": {},
   "outputs": [
    {
     "name": "stderr",
     "output_type": "stream",
     "text": [
      "                                                                                \r"
     ]
    },
    {
     "data": {
      "text/plain": [
       "3826405"
      ]
     },
     "execution_count": 119,
     "metadata": {},
     "output_type": "execute_result"
    }
   ],
   "source": [
    "cleanedMark_2018_2022.count()"
   ]
  },
  {
   "attachments": {},
   "cell_type": "markdown",
   "metadata": {},
   "source": [
    "<h2> Remove all rows which has mark <= 1"
   ]
  },
  {
   "cell_type": "code",
   "execution_count": 120,
   "metadata": {},
   "outputs": [],
   "source": [
    "cleanedMark_2018_2022 = cleanedMark_2018_2022.filter(~isnull(cleanedMark_2018_2022.mathematics) & (cleanedMark_2018_2022.mathematics > 1)) \\\n",
    "               .filter(~isnull(cleanedMark_2018_2022.literature) & (cleanedMark_2018_2022.literature > 1)) \\\n",
    "               .filter(isnull(cleanedMark_2018_2022.physics) | (~isnull(cleanedMark_2018_2022.physics) & (cleanedMark_2018_2022.physics > 1))) \\\n",
    "               .filter(isnull(cleanedMark_2018_2022.chemistry) | (~isnull(cleanedMark_2018_2022.chemistry) & (cleanedMark_2018_2022.chemistry > 1))) \\\n",
    "               .filter(isnull(cleanedMark_2018_2022.biology) | (~isnull(cleanedMark_2018_2022.biology) & (cleanedMark_2018_2022.biology > 1))) \\\n",
    "               .filter(isnull(cleanedMark_2018_2022.history) | (~isnull(cleanedMark_2018_2022.history) & (cleanedMark_2018_2022.history > 1))) \\\n",
    "               .filter(isnull(cleanedMark_2018_2022.geography) | (~isnull(cleanedMark_2018_2022.geography) & (cleanedMark_2018_2022.geography > 1))) \\\n",
    "               .filter(isnull(cleanedMark_2018_2022.civic_education) | (~isnull(cleanedMark_2018_2022.civic_education) & (cleanedMark_2018_2022.civic_education > 1))) \\\n",
    "               .filter(~isnull(cleanedMark_2018_2022.english) & (cleanedMark_2018_2022.english > 1))"
   ]
  },
  {
   "cell_type": "code",
   "execution_count": 121,
   "metadata": {},
   "outputs": [
    {
     "name": "stderr",
     "output_type": "stream",
     "text": [
      "                                                                                \r"
     ]
    },
    {
     "data": {
      "text/plain": [
       "3819805"
      ]
     },
     "execution_count": 121,
     "metadata": {},
     "output_type": "execute_result"
    }
   ],
   "source": [
    "cleanedMark_2018_2022.count()"
   ]
  },
  {
   "attachments": {},
   "cell_type": "markdown",
   "metadata": {},
   "source": [
    "<h1> Export to csv file"
   ]
  },
  {
   "cell_type": "code",
   "execution_count": 122,
   "metadata": {},
   "outputs": [
    {
     "name": "stderr",
     "output_type": "stream",
     "text": [
      "                                                                                \r"
     ]
    }
   ],
   "source": [
    "fullMarkOut = cleanedMark_2018_2022.coalesce(1)\n",
    "fullMarkOut.write.option('delimiter', ',').csv('./CleanedDatasets/Mark_2018_2022', header = True)"
   ]
  },
  {
   "cell_type": "code",
   "execution_count": null,
   "metadata": {},
   "outputs": [],
   "source": []
  }
 ],
 "metadata": {
  "kernelspec": {
   "display_name": "Python 3",
   "language": "python",
   "name": "python3"
  },
  "language_info": {
   "codemirror_mode": {
    "name": "ipython",
    "version": 3
   },
   "file_extension": ".py",
   "mimetype": "text/x-python",
   "name": "python",
   "nbconvert_exporter": "python",
   "pygments_lexer": "ipython3",
   "version": "3.10.7"
  },
  "vscode": {
   "interpreter": {
    "hash": "31f2aee4e71d21fbe5cf8b01ff0e069b9275f58929596ceb00d14d90e3e16cd6"
   }
  }
 },
 "nbformat": 4,
 "nbformat_minor": 2
}
